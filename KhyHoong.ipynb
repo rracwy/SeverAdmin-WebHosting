{
 "cells": [
  {
   "cell_type": "markdown",
   "id": "96d2565b",
   "metadata": {},
   "source": [
    "# Import the library"
   ]
  },
  {
   "cell_type": "code",
   "execution_count": 1,
   "id": "219b902d",
   "metadata": {},
   "outputs": [],
   "source": [
    "import pandas as pd\n",
    "import numpy as np\n",
    "import matplotlib.pyplot as plt\n",
    "from sklearn.preprocessing import StandardScaler\n",
    "from sklearn.model_selection import train_test_split\n",
    "import seaborn as sns\n",
    "from sklearn.preprocessing import StandardScaler\n",
    "from sklearn.preprocessing import LabelBinarizer\n",
    "from sklearn.preprocessing import OrdinalEncoder"
   ]
  },
  {
   "cell_type": "markdown",
   "id": "ede165ca",
   "metadata": {},
   "source": [
    "# Import the dataset from CSV( the data after processing)"
   ]
  },
  {
   "cell_type": "code",
   "execution_count": 2,
   "id": "3252ecc6",
   "metadata": {
    "scrolled": true
   },
   "outputs": [
    {
     "data": {
      "text/html": [
       "<div>\n",
       "<style scoped>\n",
       "    .dataframe tbody tr th:only-of-type {\n",
       "        vertical-align: middle;\n",
       "    }\n",
       "\n",
       "    .dataframe tbody tr th {\n",
       "        vertical-align: top;\n",
       "    }\n",
       "\n",
       "    .dataframe thead th {\n",
       "        text-align: right;\n",
       "    }\n",
       "</style>\n",
       "<table border=\"1\" class=\"dataframe\">\n",
       "  <thead>\n",
       "    <tr style=\"text-align: right;\">\n",
       "      <th></th>\n",
       "      <th>No.</th>\n",
       "      <th>Time</th>\n",
       "      <th>Source</th>\n",
       "      <th>Destination</th>\n",
       "      <th>Protocol</th>\n",
       "      <th>Length</th>\n",
       "      <th>Info</th>\n",
       "      <th>Classes</th>\n",
       "    </tr>\n",
       "  </thead>\n",
       "  <tbody>\n",
       "    <tr>\n",
       "      <th>0</th>\n",
       "      <td>1</td>\n",
       "      <td>0.079761</td>\n",
       "      <td>192.168.50.79</td>\n",
       "      <td>47.246.136.160</td>\n",
       "      <td>TLSv1.2</td>\n",
       "      <td>648</td>\n",
       "      <td>Application Data</td>\n",
       "      <td>Alibaba</td>\n",
       "    </tr>\n",
       "    <tr>\n",
       "      <th>1</th>\n",
       "      <td>2</td>\n",
       "      <td>0.081792</td>\n",
       "      <td>192.168.50.79</td>\n",
       "      <td>47.246.136.160</td>\n",
       "      <td>TLSv1.2</td>\n",
       "      <td>647</td>\n",
       "      <td>Application Data</td>\n",
       "      <td>Alibaba</td>\n",
       "    </tr>\n",
       "    <tr>\n",
       "      <th>2</th>\n",
       "      <td>3</td>\n",
       "      <td>0.311880</td>\n",
       "      <td>47.246.136.160</td>\n",
       "      <td>192.168.50.79</td>\n",
       "      <td>TLSv1.2</td>\n",
       "      <td>181</td>\n",
       "      <td>Application Data</td>\n",
       "      <td>Alibaba</td>\n",
       "    </tr>\n",
       "    <tr>\n",
       "      <th>3</th>\n",
       "      <td>4</td>\n",
       "      <td>0.313906</td>\n",
       "      <td>47.246.136.160</td>\n",
       "      <td>192.168.50.79</td>\n",
       "      <td>TLSv1.2</td>\n",
       "      <td>158</td>\n",
       "      <td>Application Data</td>\n",
       "      <td>Alibaba</td>\n",
       "    </tr>\n",
       "    <tr>\n",
       "      <th>4</th>\n",
       "      <td>5</td>\n",
       "      <td>0.501879</td>\n",
       "      <td>118.214.80.105</td>\n",
       "      <td>192.168.50.79</td>\n",
       "      <td>TLSv1.2</td>\n",
       "      <td>85</td>\n",
       "      <td>Encrypted Alert</td>\n",
       "      <td>Alibaba</td>\n",
       "    </tr>\n",
       "    <tr>\n",
       "      <th>...</th>\n",
       "      <td>...</td>\n",
       "      <td>...</td>\n",
       "      <td>...</td>\n",
       "      <td>...</td>\n",
       "      <td>...</td>\n",
       "      <td>...</td>\n",
       "      <td>...</td>\n",
       "      <td>...</td>\n",
       "    </tr>\n",
       "    <tr>\n",
       "      <th>27972</th>\n",
       "      <td>62</td>\n",
       "      <td>180.099181</td>\n",
       "      <td>2001:d08:2182:79b2:d59e:5586:e01a:e810</td>\n",
       "      <td>fe80::d49d:f9ff:fee5:76c1</td>\n",
       "      <td>ICMPv6</td>\n",
       "      <td>86</td>\n",
       "      <td>Neighbor Advertisement 2001:d08:2182:79b2:d59e...</td>\n",
       "      <td>Youtube</td>\n",
       "    </tr>\n",
       "    <tr>\n",
       "      <th>27973</th>\n",
       "      <td>63</td>\n",
       "      <td>182.579367</td>\n",
       "      <td>fe80::d49d:f9ff:fee5:76c1</td>\n",
       "      <td>ff02::1:ff9b:84d7</td>\n",
       "      <td>ICMPv6</td>\n",
       "      <td>86</td>\n",
       "      <td>Neighbor Solicitation for 2001:d08:2182:79b2:5...</td>\n",
       "      <td>Youtube</td>\n",
       "    </tr>\n",
       "    <tr>\n",
       "      <th>27974</th>\n",
       "      <td>64</td>\n",
       "      <td>182.579448</td>\n",
       "      <td>2001:d08:2182:79b2:54f3:c7a:39b:84d7</td>\n",
       "      <td>fe80::d49d:f9ff:fee5:76c1</td>\n",
       "      <td>ICMPv6</td>\n",
       "      <td>86</td>\n",
       "      <td>Neighbor Advertisement 2001:d08:2182:79b2:54f3...</td>\n",
       "      <td>Youtube</td>\n",
       "    </tr>\n",
       "    <tr>\n",
       "      <th>27975</th>\n",
       "      <td>65</td>\n",
       "      <td>182.733768</td>\n",
       "      <td>2001:d08:2182:79b2:d49d:f9ff:fee5:76c1</td>\n",
       "      <td>2001:d08:2182:79b2:d59e:5586:e01a:e810</td>\n",
       "      <td>ICMPv6</td>\n",
       "      <td>63</td>\n",
       "      <td>Echo (ping) request id=0x3133, seq=1, hop limi...</td>\n",
       "      <td>Youtube</td>\n",
       "    </tr>\n",
       "    <tr>\n",
       "      <th>27976</th>\n",
       "      <td>66</td>\n",
       "      <td>185.165798</td>\n",
       "      <td>2001:d08:2182:79b2:d49d:f9ff:fee5:76c1</td>\n",
       "      <td>2001:d08:2182:79b2:54f3:c7a:39b:84d7</td>\n",
       "      <td>ICMPv6</td>\n",
       "      <td>63</td>\n",
       "      <td>Echo (ping) request id=0x31c2, seq=1, hop limi...</td>\n",
       "      <td>Youtube</td>\n",
       "    </tr>\n",
       "  </tbody>\n",
       "</table>\n",
       "<p>27977 rows × 8 columns</p>\n",
       "</div>"
      ],
      "text/plain": [
       "       No.        Time                                  Source  \\\n",
       "0        1    0.079761                           192.168.50.79   \n",
       "1        2    0.081792                           192.168.50.79   \n",
       "2        3    0.311880                          47.246.136.160   \n",
       "3        4    0.313906                          47.246.136.160   \n",
       "4        5    0.501879                          118.214.80.105   \n",
       "...    ...         ...                                     ...   \n",
       "27972   62  180.099181  2001:d08:2182:79b2:d59e:5586:e01a:e810   \n",
       "27973   63  182.579367               fe80::d49d:f9ff:fee5:76c1   \n",
       "27974   64  182.579448    2001:d08:2182:79b2:54f3:c7a:39b:84d7   \n",
       "27975   65  182.733768  2001:d08:2182:79b2:d49d:f9ff:fee5:76c1   \n",
       "27976   66  185.165798  2001:d08:2182:79b2:d49d:f9ff:fee5:76c1   \n",
       "\n",
       "                                  Destination Protocol  Length  \\\n",
       "0                              47.246.136.160  TLSv1.2     648   \n",
       "1                              47.246.136.160  TLSv1.2     647   \n",
       "2                               192.168.50.79  TLSv1.2     181   \n",
       "3                               192.168.50.79  TLSv1.2     158   \n",
       "4                               192.168.50.79  TLSv1.2      85   \n",
       "...                                       ...      ...     ...   \n",
       "27972               fe80::d49d:f9ff:fee5:76c1   ICMPv6      86   \n",
       "27973                       ff02::1:ff9b:84d7   ICMPv6      86   \n",
       "27974               fe80::d49d:f9ff:fee5:76c1   ICMPv6      86   \n",
       "27975  2001:d08:2182:79b2:d59e:5586:e01a:e810   ICMPv6      63   \n",
       "27976    2001:d08:2182:79b2:54f3:c7a:39b:84d7   ICMPv6      63   \n",
       "\n",
       "                                                    Info  Classes  \n",
       "0                                       Application Data  Alibaba  \n",
       "1                                       Application Data  Alibaba  \n",
       "2                                       Application Data  Alibaba  \n",
       "3                                       Application Data  Alibaba  \n",
       "4                                        Encrypted Alert  Alibaba  \n",
       "...                                                  ...      ...  \n",
       "27972  Neighbor Advertisement 2001:d08:2182:79b2:d59e...  Youtube  \n",
       "27973  Neighbor Solicitation for 2001:d08:2182:79b2:5...  Youtube  \n",
       "27974  Neighbor Advertisement 2001:d08:2182:79b2:54f3...  Youtube  \n",
       "27975  Echo (ping) request id=0x3133, seq=1, hop limi...  Youtube  \n",
       "27976  Echo (ping) request id=0x31c2, seq=1, hop limi...  Youtube  \n",
       "\n",
       "[27977 rows x 8 columns]"
      ]
     },
     "execution_count": 2,
     "metadata": {},
     "output_type": "execute_result"
    }
   ],
   "source": [
    "traffic = pd.read_csv(\"DataCenterTraffic.csv\")\n",
    "traffic"
   ]
  },
  {
   "cell_type": "markdown",
   "id": "1490bdc0",
   "metadata": {},
   "source": [
    "## explore the data"
   ]
  },
  {
   "cell_type": "code",
   "execution_count": 3,
   "id": "7d78284c",
   "metadata": {
    "scrolled": true
   },
   "outputs": [
    {
     "name": "stdout",
     "output_type": "stream",
     "text": [
      "<class 'pandas.core.frame.DataFrame'>\n",
      "RangeIndex: 27977 entries, 0 to 27976\n",
      "Data columns (total 8 columns):\n",
      " #   Column       Non-Null Count  Dtype  \n",
      "---  ------       --------------  -----  \n",
      " 0   No.          27977 non-null  int64  \n",
      " 1   Time         27977 non-null  float64\n",
      " 2   Source       27977 non-null  object \n",
      " 3   Destination  27977 non-null  object \n",
      " 4   Protocol     27977 non-null  object \n",
      " 5   Length       27977 non-null  int64  \n",
      " 6   Info         27939 non-null  object \n",
      " 7   Classes      27977 non-null  object \n",
      "dtypes: float64(1), int64(2), object(5)\n",
      "memory usage: 1.7+ MB\n"
     ]
    }
   ],
   "source": [
    "traffic.info(buf=None) \n",
    "#show the infomation of the data frame inclusing the index dtype and also columns, non- null values and memory usage "
   ]
  },
  {
   "cell_type": "code",
   "execution_count": 4,
   "id": "4cac703c",
   "metadata": {
    "scrolled": true
   },
   "outputs": [
    {
     "data": {
      "text/plain": [
       "No.             0\n",
       "Time            0\n",
       "Source          0\n",
       "Destination     0\n",
       "Protocol        0\n",
       "Length          0\n",
       "Info           38\n",
       "Classes         0\n",
       "dtype: int64"
      ]
     },
     "execution_count": 4,
     "metadata": {},
     "output_type": "execute_result"
    }
   ],
   "source": [
    "# this step is for making sure is there is some data is missing and if there is some data missing then need to found it and replace it\n",
    "#in this step is to sum up all the null value\n",
    "\n",
    "traffic.isnull().sum()"
   ]
  },
  {
   "cell_type": "code",
   "execution_count": 5,
   "id": "e0407102",
   "metadata": {},
   "outputs": [],
   "source": [
    "traffic_missing=[\"Ignored Unknown Record\", \"Application Data, Ignored Unknown Record\",\"Change Cipher Spec, Ignored Unknown Record\",\n",
    "               \"Encrypted Handshake Message, Ignored Unknown Record\",\"TCP Previous segment not captured , Ignored Unknown Record\",\n",
    "              \"[TCP Fast Retransmission] , Ignored Unknown Record\"]\n",
    "traffic = traffic.replace(traffic_missing, np.NaN)\n",
    "# this is for collecting all noise data and sum up all the null value again after collecting with noise data"
   ]
  },
  {
   "cell_type": "code",
   "execution_count": 6,
   "id": "a9257fbe",
   "metadata": {},
   "outputs": [
    {
     "data": {
      "text/plain": [
       "No.             0\n",
       "Time            0\n",
       "Source          0\n",
       "Destination     0\n",
       "Protocol        0\n",
       "Length          0\n",
       "Info           56\n",
       "Classes         0\n",
       "dtype: int64"
      ]
     },
     "execution_count": 6,
     "metadata": {},
     "output_type": "execute_result"
    }
   ],
   "source": [
    "traffic.isnull().sum()"
   ]
  },
  {
   "cell_type": "code",
   "execution_count": 7,
   "id": "2776ee02",
   "metadata": {},
   "outputs": [],
   "source": [
    "traffic.dropna(inplace=True) # drop all the data "
   ]
  },
  {
   "cell_type": "code",
   "execution_count": 8,
   "id": "e88cd02c",
   "metadata": {},
   "outputs": [
    {
     "data": {
      "text/plain": [
       "No.            0\n",
       "Time           0\n",
       "Source         0\n",
       "Destination    0\n",
       "Protocol       0\n",
       "Length         0\n",
       "Info           0\n",
       "Classes        0\n",
       "dtype: int64"
      ]
     },
     "execution_count": 8,
     "metadata": {},
     "output_type": "execute_result"
    }
   ],
   "source": [
    "traffic.isnull().sum()\n",
    "# for make sure there are no more missing value"
   ]
  },
  {
   "cell_type": "code",
   "execution_count": 9,
   "id": "50bb4fe9",
   "metadata": {
    "scrolled": false
   },
   "outputs": [
    {
     "data": {
      "text/html": [
       "<div>\n",
       "<style scoped>\n",
       "    .dataframe tbody tr th:only-of-type {\n",
       "        vertical-align: middle;\n",
       "    }\n",
       "\n",
       "    .dataframe tbody tr th {\n",
       "        vertical-align: top;\n",
       "    }\n",
       "\n",
       "    .dataframe thead th {\n",
       "        text-align: right;\n",
       "    }\n",
       "</style>\n",
       "<table border=\"1\" class=\"dataframe\">\n",
       "  <thead>\n",
       "    <tr style=\"text-align: right;\">\n",
       "      <th></th>\n",
       "      <th>No.</th>\n",
       "      <th>Time</th>\n",
       "      <th>Length</th>\n",
       "    </tr>\n",
       "  </thead>\n",
       "  <tbody>\n",
       "    <tr>\n",
       "      <th>No.</th>\n",
       "      <td>1.000000</td>\n",
       "      <td>-0.353044</td>\n",
       "      <td>0.098176</td>\n",
       "    </tr>\n",
       "    <tr>\n",
       "      <th>Time</th>\n",
       "      <td>-0.353044</td>\n",
       "      <td>1.000000</td>\n",
       "      <td>0.069332</td>\n",
       "    </tr>\n",
       "    <tr>\n",
       "      <th>Length</th>\n",
       "      <td>0.098176</td>\n",
       "      <td>0.069332</td>\n",
       "      <td>1.000000</td>\n",
       "    </tr>\n",
       "  </tbody>\n",
       "</table>\n",
       "</div>"
      ],
      "text/plain": [
       "             No.      Time    Length\n",
       "No.     1.000000 -0.353044  0.098176\n",
       "Time   -0.353044  1.000000  0.069332\n",
       "Length  0.098176  0.069332  1.000000"
      ]
     },
     "execution_count": 9,
     "metadata": {},
     "output_type": "execute_result"
    }
   ],
   "source": [
    "traffic.corr()  #check for the correlation matrix before proceed to data visualization"
   ]
  },
  {
   "cell_type": "markdown",
   "id": "5ddc77b5",
   "metadata": {},
   "source": [
    "# Data Visualization for getting numerical data \n",
    "\n"
   ]
  },
  {
   "cell_type": "code",
   "execution_count": 10,
   "id": "236eb228",
   "metadata": {},
   "outputs": [
    {
     "data": {
      "text/html": [
       "<div>\n",
       "<style scoped>\n",
       "    .dataframe tbody tr th:only-of-type {\n",
       "        vertical-align: middle;\n",
       "    }\n",
       "\n",
       "    .dataframe tbody tr th {\n",
       "        vertical-align: top;\n",
       "    }\n",
       "\n",
       "    .dataframe thead th {\n",
       "        text-align: right;\n",
       "    }\n",
       "</style>\n",
       "<table border=\"1\" class=\"dataframe\">\n",
       "  <thead>\n",
       "    <tr style=\"text-align: right;\">\n",
       "      <th></th>\n",
       "      <th>Time</th>\n",
       "      <th>Protocol</th>\n",
       "      <th>Length</th>\n",
       "      <th>Info</th>\n",
       "      <th>Classes</th>\n",
       "    </tr>\n",
       "  </thead>\n",
       "  <tbody>\n",
       "    <tr>\n",
       "      <th>0</th>\n",
       "      <td>0.079761</td>\n",
       "      <td>TLSv1.2</td>\n",
       "      <td>648</td>\n",
       "      <td>Application Data</td>\n",
       "      <td>Alibaba</td>\n",
       "    </tr>\n",
       "    <tr>\n",
       "      <th>1</th>\n",
       "      <td>0.081792</td>\n",
       "      <td>TLSv1.2</td>\n",
       "      <td>647</td>\n",
       "      <td>Application Data</td>\n",
       "      <td>Alibaba</td>\n",
       "    </tr>\n",
       "    <tr>\n",
       "      <th>2</th>\n",
       "      <td>0.311880</td>\n",
       "      <td>TLSv1.2</td>\n",
       "      <td>181</td>\n",
       "      <td>Application Data</td>\n",
       "      <td>Alibaba</td>\n",
       "    </tr>\n",
       "    <tr>\n",
       "      <th>3</th>\n",
       "      <td>0.313906</td>\n",
       "      <td>TLSv1.2</td>\n",
       "      <td>158</td>\n",
       "      <td>Application Data</td>\n",
       "      <td>Alibaba</td>\n",
       "    </tr>\n",
       "    <tr>\n",
       "      <th>4</th>\n",
       "      <td>0.501879</td>\n",
       "      <td>TLSv1.2</td>\n",
       "      <td>85</td>\n",
       "      <td>Encrypted Alert</td>\n",
       "      <td>Alibaba</td>\n",
       "    </tr>\n",
       "    <tr>\n",
       "      <th>...</th>\n",
       "      <td>...</td>\n",
       "      <td>...</td>\n",
       "      <td>...</td>\n",
       "      <td>...</td>\n",
       "      <td>...</td>\n",
       "    </tr>\n",
       "    <tr>\n",
       "      <th>27972</th>\n",
       "      <td>180.099181</td>\n",
       "      <td>ICMPv6</td>\n",
       "      <td>86</td>\n",
       "      <td>Neighbor Advertisement 2001:d08:2182:79b2:d59e...</td>\n",
       "      <td>Youtube</td>\n",
       "    </tr>\n",
       "    <tr>\n",
       "      <th>27973</th>\n",
       "      <td>182.579367</td>\n",
       "      <td>ICMPv6</td>\n",
       "      <td>86</td>\n",
       "      <td>Neighbor Solicitation for 2001:d08:2182:79b2:5...</td>\n",
       "      <td>Youtube</td>\n",
       "    </tr>\n",
       "    <tr>\n",
       "      <th>27974</th>\n",
       "      <td>182.579448</td>\n",
       "      <td>ICMPv6</td>\n",
       "      <td>86</td>\n",
       "      <td>Neighbor Advertisement 2001:d08:2182:79b2:54f3...</td>\n",
       "      <td>Youtube</td>\n",
       "    </tr>\n",
       "    <tr>\n",
       "      <th>27975</th>\n",
       "      <td>182.733768</td>\n",
       "      <td>ICMPv6</td>\n",
       "      <td>63</td>\n",
       "      <td>Echo (ping) request id=0x3133, seq=1, hop limi...</td>\n",
       "      <td>Youtube</td>\n",
       "    </tr>\n",
       "    <tr>\n",
       "      <th>27976</th>\n",
       "      <td>185.165798</td>\n",
       "      <td>ICMPv6</td>\n",
       "      <td>63</td>\n",
       "      <td>Echo (ping) request id=0x31c2, seq=1, hop limi...</td>\n",
       "      <td>Youtube</td>\n",
       "    </tr>\n",
       "  </tbody>\n",
       "</table>\n",
       "<p>27921 rows × 5 columns</p>\n",
       "</div>"
      ],
      "text/plain": [
       "             Time Protocol  Length  \\\n",
       "0        0.079761  TLSv1.2     648   \n",
       "1        0.081792  TLSv1.2     647   \n",
       "2        0.311880  TLSv1.2     181   \n",
       "3        0.313906  TLSv1.2     158   \n",
       "4        0.501879  TLSv1.2      85   \n",
       "...           ...      ...     ...   \n",
       "27972  180.099181   ICMPv6      86   \n",
       "27973  182.579367   ICMPv6      86   \n",
       "27974  182.579448   ICMPv6      86   \n",
       "27975  182.733768   ICMPv6      63   \n",
       "27976  185.165798   ICMPv6      63   \n",
       "\n",
       "                                                    Info  Classes  \n",
       "0                                       Application Data  Alibaba  \n",
       "1                                       Application Data  Alibaba  \n",
       "2                                       Application Data  Alibaba  \n",
       "3                                       Application Data  Alibaba  \n",
       "4                                        Encrypted Alert  Alibaba  \n",
       "...                                                  ...      ...  \n",
       "27972  Neighbor Advertisement 2001:d08:2182:79b2:d59e...  Youtube  \n",
       "27973  Neighbor Solicitation for 2001:d08:2182:79b2:5...  Youtube  \n",
       "27974  Neighbor Advertisement 2001:d08:2182:79b2:54f3...  Youtube  \n",
       "27975  Echo (ping) request id=0x3133, seq=1, hop limi...  Youtube  \n",
       "27976  Echo (ping) request id=0x31c2, seq=1, hop limi...  Youtube  \n",
       "\n",
       "[27921 rows x 5 columns]"
      ]
     },
     "execution_count": 10,
     "metadata": {},
     "output_type": "execute_result"
    }
   ],
   "source": [
    "traffic2 = traffic.drop([\"Source\",\"Destination\",\"No.\"], axis=1)\n",
    "traffic2"
   ]
  },
  {
   "cell_type": "markdown",
   "id": "dc0fba96",
   "metadata": {},
   "source": [
    "# Data Visualization for Website(output)"
   ]
  },
  {
   "cell_type": "code",
   "execution_count": 11,
   "id": "b7f5e842",
   "metadata": {},
   "outputs": [
    {
     "data": {
      "text/plain": [
       "<AxesSubplot:xlabel='Classes', ylabel='count'>"
      ]
     },
     "execution_count": 11,
     "metadata": {},
     "output_type": "execute_result"
    },
    {
     "data": {
      "image/png": "[encoded data removed]",
      "text/plain": [
       "<Figure size 432x288 with 1 Axes>"
      ]
     },
     "metadata": {
      "needs_background": "light"
     },
     "output_type": "display_data"
    }
   ],
   "source": [
    "sns.countplot(x=traffic2['Classes'])"
   ]
  },
  {
   "cell_type": "code",
   "execution_count": 12,
   "id": "61989b83",
   "metadata": {},
   "outputs": [
    {
     "data": {
      "text/plain": [
       "Classes\n",
       "Alibaba       321.0\n",
       "Amazon        117.0\n",
       "Apple        1474.0\n",
       "Facebook     1466.0\n",
       "Huawei       1454.0\n",
       "Microsoft     133.0\n",
       "Samsung        42.0\n",
       "Shopee        113.0\n",
       "Xiaomi       1454.0\n",
       "Youtube        86.0\n",
       "Name: Length, dtype: float64"
      ]
     },
     "execution_count": 12,
     "metadata": {},
     "output_type": "execute_result"
    },
    {
     "data": {
      "image/png": "[encoded data removed]",
      "text/plain": [
       "<Figure size 432x288 with 1 Axes>"
      ]
     },
     "metadata": {
      "needs_background": "light"
     },
     "output_type": "display_data"
    }
   ],
   "source": [
    "# The graph of length vs Classes\n",
    "sns.boxplot(x='Classes', y='Length', data=traffic2)\n",
    "traffic.groupby('Classes')['Length'].median()"
   ]
  },
  {
   "cell_type": "code",
   "execution_count": 13,
   "id": "6d307d5c",
   "metadata": {},
   "outputs": [
    {
     "data": {
      "text/plain": [
       "Xiaomi       12438\n",
       "Facebook      8444\n",
       "Huawei        2530\n",
       "Alibaba       1838\n",
       "Apple          881\n",
       "Amazon         713\n",
       "Microsoft      495\n",
       "Shopee         454\n",
       "Youtube         66\n",
       "Samsung         62\n",
       "Name: Classes, dtype: int64"
      ]
     },
     "execution_count": 13,
     "metadata": {},
     "output_type": "execute_result"
    }
   ],
   "source": [
    "# value inside classes column\n",
    "traffic2.Classes.value_counts()"
   ]
  },
  {
   "cell_type": "code",
   "execution_count": 14,
   "id": "4e6d94cb",
   "metadata": {},
   "outputs": [],
   "source": [
    "X = traffic2.drop('Classes', axis = 1)\n",
    "y = traffic2['Classes']"
   ]
  },
  {
   "cell_type": "code",
   "execution_count": 15,
   "id": "71134b03",
   "metadata": {},
   "outputs": [
    {
     "name": "stdout",
     "output_type": "stream",
     "text": [
      "X:  (27921, 4) y:  (27921,)\n"
     ]
    }
   ],
   "source": [
    "print('X: ', X.shape, 'y: ', y.shape) # preparing the data"
   ]
  },
  {
   "cell_type": "markdown",
   "id": "2801c345",
   "metadata": {},
   "source": [
    "# Split Traning set and Test Set\n",
    "## Split the data to 8:2"
   ]
  },
  {
   "cell_type": "code",
   "execution_count": 16,
   "id": "db87782e",
   "metadata": {},
   "outputs": [
    {
     "name": "stdout",
     "output_type": "stream",
     "text": [
      "full set shape= (27921, 4)\n",
      "train shape= (22336, 4)\n",
      "test shape= (5585, 4)\n"
     ]
    }
   ],
   "source": [
    "X_train, X_test, y_train, y_test = train_test_split(X, y, test_size=0.2, random_state=42)\n",
    "\n",
    "print('full set shape=', X.shape)\n",
    "print('train shape=', X_train.shape)\n",
    "print('test shape=', X_test.shape)"
   ]
  },
  {
   "cell_type": "markdown",
   "id": "2187878d",
   "metadata": {},
   "source": [
    "# Split Numerical data and Categorical data for traning set"
   ]
  },
  {
   "cell_type": "markdown",
   "id": "cb5cbf8d",
   "metadata": {},
   "source": [
    "### For train set"
   ]
  },
  {
   "cell_type": "code",
   "execution_count": 17,
   "id": "308cf13f",
   "metadata": {
    "scrolled": true
   },
   "outputs": [
    {
     "name": "stdout",
     "output_type": "stream",
     "text": [
      "<class 'pandas.core.frame.DataFrame'>\n",
      "Int64Index: 22336 entries, 9064 to 23706\n",
      "Data columns (total 2 columns):\n",
      " #   Column  Non-Null Count  Dtype  \n",
      "---  ------  --------------  -----  \n",
      " 0   Time    22336 non-null  float64\n",
      " 1   Length  22336 non-null  int64  \n",
      "dtypes: float64(1), int64(1)\n",
      "memory usage: 523.5 KB\n",
      "<class 'pandas.core.frame.DataFrame'>\n",
      "Int64Index: 22336 entries, 9064 to 23706\n",
      "Data columns (total 2 columns):\n",
      " #   Column    Non-Null Count  Dtype \n",
      "---  ------    --------------  ----- \n",
      " 0   Protocol  22336 non-null  object\n",
      " 1   Info      22336 non-null  object\n",
      "dtypes: object(2)\n",
      "memory usage: 523.5+ KB\n"
     ]
    }
   ],
   "source": [
    "X_train_num = X_train.drop([\"Protocol\",\"Info\"],axis=1)\n",
    "X_train_cat= X_train.drop([\"Time\",\"Length\"],axis=1)\n",
    "X_train_num.info()\n",
    "X_train_cat.info()\n",
    "#this is for the trainning set which using the protocol and infomation"
   ]
  },
  {
   "cell_type": "code",
   "execution_count": 18,
   "id": "f6c2af19",
   "metadata": {},
   "outputs": [
    {
     "data": {
      "text/plain": [
       "(22336, 2)"
      ]
     },
     "execution_count": 18,
     "metadata": {},
     "output_type": "execute_result"
    }
   ],
   "source": [
    "X_train_num.shape #(row,column)"
   ]
  },
  {
   "cell_type": "code",
   "execution_count": 19,
   "id": "a851c04c",
   "metadata": {},
   "outputs": [
    {
     "data": {
      "text/plain": [
       "(22336, 2)"
      ]
     },
     "execution_count": 19,
     "metadata": {},
     "output_type": "execute_result"
    }
   ],
   "source": [
    "X_train_cat.shape #giving the dimension of the array"
   ]
  },
  {
   "cell_type": "markdown",
   "id": "b4897768",
   "metadata": {},
   "source": [
    "### For test set"
   ]
  },
  {
   "cell_type": "code",
   "execution_count": 20,
   "id": "9f80bb78",
   "metadata": {},
   "outputs": [
    {
     "name": "stdout",
     "output_type": "stream",
     "text": [
      "<class 'pandas.core.frame.DataFrame'>\n",
      "Int64Index: 5585 entries, 14627 to 24471\n",
      "Data columns (total 2 columns):\n",
      " #   Column  Non-Null Count  Dtype  \n",
      "---  ------  --------------  -----  \n",
      " 0   Time    5585 non-null   float64\n",
      " 1   Length  5585 non-null   int64  \n",
      "dtypes: float64(1), int64(1)\n",
      "memory usage: 130.9 KB\n",
      "<class 'pandas.core.frame.DataFrame'>\n",
      "Int64Index: 5585 entries, 14627 to 24471\n",
      "Data columns (total 2 columns):\n",
      " #   Column    Non-Null Count  Dtype \n",
      "---  ------    --------------  ----- \n",
      " 0   Protocol  5585 non-null   object\n",
      " 1   Info      5585 non-null   object\n",
      "dtypes: object(2)\n",
      "memory usage: 130.9+ KB\n"
     ]
    }
   ],
   "source": [
    "X_test_num = X_test.drop([\"Protocol\",\"Info\"],axis=1)\n",
    "X_test_cat = X_test.drop([\"Time\",\"Length\"],axis=1)\n",
    "X_test_num.info()\n",
    "X_test_cat.info()\n",
    "#this is for test set and also implement the protocol and infomation and also time and length"
   ]
  },
  {
   "cell_type": "markdown",
   "id": "bb88fade",
   "metadata": {},
   "source": [
    "# Standardization"
   ]
  },
  {
   "cell_type": "code",
   "execution_count": 21,
   "id": "3f971ec9",
   "metadata": {
    "scrolled": true
   },
   "outputs": [
    {
     "name": "stdout",
     "output_type": "stream",
     "text": [
      "Mean of all columns:\n",
      " [-4.16731279e-17 -1.74963514e-17]\n",
      "Std of all columns:\n",
      " [1. 1.]\n"
     ]
    }
   ],
   "source": [
    "# for the train set\n",
    "# the mean and std scores is represented the accuracy of the function that being implemetned\n",
    "traffic_scaler = StandardScaler()\n",
    "traffic_scaler.fit(X_train_num)\n",
    "X_train_num_tr = traffic_scaler.transform(X_train_num)\n",
    "print('Mean of all columns:\\n', X_train_num_tr.mean(axis=0))\n",
    "print('Std of all columns:\\n', X_train_num_tr.std(axis=0))"
   ]
  },
  {
   "cell_type": "code",
   "execution_count": 22,
   "id": "4b3cd6c8",
   "metadata": {
    "scrolled": true
   },
   "outputs": [
    {
     "data": {
      "text/plain": [
       "array([[-0.41112534, -1.22845695],\n",
       "       [-0.38838021,  0.87650502],\n",
       "       [-0.38935491,  0.87650502],\n",
       "       ...,\n",
       "       [ 0.12166499,  0.50601962],\n",
       "       [-0.51466456,  0.88860251],\n",
       "       [-0.42004073,  0.8583588 ]])"
      ]
     },
     "execution_count": 22,
     "metadata": {},
     "output_type": "execute_result"
    }
   ],
   "source": [
    "X_train_num_tr"
   ]
  },
  {
   "cell_type": "code",
   "execution_count": 23,
   "id": "28cc6a45",
   "metadata": {
    "scrolled": false
   },
   "outputs": [
    {
     "name": "stdout",
     "output_type": "stream",
     "text": [
      "Mean of all columns:\n",
      " [-1.78112772e-17 -2.16279794e-17]\n",
      "Std of all columns:\n",
      " [1. 1.]\n"
     ]
    }
   ],
   "source": [
    "# for test set\n",
    "traffic_scaler.fit(X_test_num)\n",
    "X_test_num_tr = traffic_scaler.transform(X_test_num)\n",
    "print('Mean of all columns:\\n', X_test_num_tr.mean(axis=0))\n",
    "print('Std of all columns:\\n', X_test_num_tr.std(axis=0))"
   ]
  },
  {
   "cell_type": "markdown",
   "id": "ae279923",
   "metadata": {},
   "source": [
    "# encoding the category data"
   ]
  },
  {
   "cell_type": "code",
   "execution_count": 24,
   "id": "03bd3508",
   "metadata": {
    "scrolled": true
   },
   "outputs": [
    {
     "name": "stdout",
     "output_type": "stream",
     "text": [
      "<class 'pandas.core.frame.DataFrame'>\n",
      "Int64Index: 22336 entries, 9064 to 23706\n",
      "Data columns (total 2 columns):\n",
      " #   Column    Non-Null Count  Dtype \n",
      "---  ------    --------------  ----- \n",
      " 0   Protocol  22336 non-null  object\n",
      " 1   Info      22336 non-null  object\n",
      "dtypes: object(2)\n",
      "memory usage: 523.5+ KB\n"
     ]
    }
   ],
   "source": [
    "# For train set \n",
    "# This step is to tranform the categorical data to numerical data\n",
    "X_train_cat.info()\n",
    "x2_cat = X_train_cat[\"Protocol\"]\n",
    "x3_cat = X_train_cat[\"Info\"]"
   ]
  },
  {
   "cell_type": "code",
   "execution_count": 25,
   "id": "5c29be11",
   "metadata": {},
   "outputs": [
    {
     "data": {
      "text/plain": [
       "TCP              13216\n",
       "HTTP2             3792\n",
       "TLSv1.2           2523\n",
       "TLSv1.3           1643\n",
       "DNS                961\n",
       "ICMPv6              55\n",
       "ARP                 40\n",
       "HTTP2/JSON          39\n",
       "OCSP                26\n",
       "HTTP                15\n",
       "HTTP2/XML           11\n",
       "TLSv1                7\n",
       "SSL                  3\n",
       "QUIC                 2\n",
       "HTTP3                2\n",
       "HTTP2/XML/XML        1\n",
       "Name: Protocol, dtype: int64"
      ]
     },
     "execution_count": 25,
     "metadata": {},
     "output_type": "execute_result"
    }
   ],
   "source": [
    "x2_cat.value_counts()\n",
    "#show all the protocol for the model"
   ]
  },
  {
   "cell_type": "code",
   "execution_count": 26,
   "id": "cd637541",
   "metadata": {},
   "outputs": [
    {
     "data": {
      "text/plain": [
       "Application Data                                                                                1377\n",
       "[TLS segment of a reassembled PDU] [TCP segment of a reassembled PDU]                           1017\n",
       "DATA[191][TLS segment of a reassembled PDU] [TCP segment of a reassembled PDU]                   828\n",
       "Application Data, Application Data                                                               499\n",
       "Application Data [TCP segment of a reassembled PDU]                                              368\n",
       "                                                                                                ... \n",
       "HEADERS[31]: 304 Not Modified                                                                      1\n",
       "443  >  49644 [ACK] Seq=5463068 Ack=3185 Win=302 Len=1400 [TCP segment of a reassembled PDU]       1\n",
       "49644  >  443 [ACK] Seq=2415 Ack=1791150 Win=8279 Len=0                                            1\n",
       "443  >  49644 [ACK] Seq=7990068 Ack=3269 Win=302 Len=1400 [TCP segment of a reassembled PDU]       1\n",
       "443  >  49644 [ACK] Seq=6956868 Ack=3227 Win=302 Len=1400 [TCP segment of a reassembled PDU]       1\n",
       "Name: Info, Length: 14759, dtype: int64"
      ]
     },
     "execution_count": 26,
     "metadata": {},
     "output_type": "execute_result"
    }
   ],
   "source": [
    "x3_cat.value_counts()\n",
    "# this is the info for each packet from the website such as we can know that the ACK is requesting connection to the server\n",
    "# and also the activities that perform by user during using the website "
   ]
  },
  {
   "cell_type": "code",
   "execution_count": 27,
   "id": "5b8a38c8",
   "metadata": {},
   "outputs": [],
   "source": [
    "from sklearn.preprocessing import LabelEncoder\n",
    "lb_encoder = LabelEncoder()\n",
    "lb_encoder.fit(x2_cat)\n",
    "x2_cat_tr = lb_encoder.transform(x2_cat)\n",
    "\n",
    "lb_encoder = LabelEncoder()\n",
    "lb_encoder.fit(x3_cat)\n",
    "x3_cat_tr = lb_encoder.transform(x3_cat)\n",
    "#this if for encoding the levels of cetegorical features into numeric values\n",
    "# the label encoder is use for normalize labels and also tr"
   ]
  },
  {
   "cell_type": "code",
   "execution_count": 28,
   "id": "f4c66b1c",
   "metadata": {
    "scrolled": false
   },
   "outputs": [
    {
     "data": {
      "text/plain": [
       "array([[   12,    12,    12, ...,    14,    12,    12],\n",
       "       [ 8007,  6845,  7351, ..., 12719,  5818,  3972]])"
      ]
     },
     "execution_count": 28,
     "metadata": {},
     "output_type": "execute_result"
    }
   ],
   "source": [
    "#combine all categories data column\n",
    "X_train_cat_change = np.vstack([x2_cat_tr,x3_cat_tr])\n",
    "X_train_cat_change"
   ]
  },
  {
   "cell_type": "code",
   "execution_count": 29,
   "id": "5b978e12",
   "metadata": {},
   "outputs": [
    {
     "data": {
      "text/plain": [
       "(2, 22336)"
      ]
     },
     "execution_count": 29,
     "metadata": {},
     "output_type": "execute_result"
    }
   ],
   "source": [
    "X_train_cat_change.shape"
   ]
  },
  {
   "cell_type": "code",
   "execution_count": 30,
   "id": "55064a17",
   "metadata": {},
   "outputs": [],
   "source": [
    "traffic_scaler2 = StandardScaler()\n",
    "traffic_scaler2.fit(X_train_cat_change)\n",
    "X_train_cat_tr = traffic_scaler2.transform(X_train_cat_change)"
   ]
  },
  {
   "cell_type": "code",
   "execution_count": 31,
   "id": "df3ba283",
   "metadata": {},
   "outputs": [
    {
     "data": {
      "text/plain": [
       "(22336, 4)"
      ]
     },
     "execution_count": 31,
     "metadata": {},
     "output_type": "execute_result"
    }
   ],
   "source": [
    "X_train_tr = np.hstack([X_train_num_tr, X_train_cat_tr.T])\n",
    "X_train_tr.shape"
   ]
  },
  {
   "cell_type": "code",
   "execution_count": 32,
   "id": "9d01f06f",
   "metadata": {},
   "outputs": [],
   "source": [
    "y_train_tr = y_train.values"
   ]
  },
  {
   "cell_type": "markdown",
   "id": "f58fa2ce",
   "metadata": {},
   "source": [
    "# for test set"
   ]
  },
  {
   "cell_type": "code",
   "execution_count": 33,
   "id": "85b8104a",
   "metadata": {},
   "outputs": [],
   "source": [
    "x2_cat_test = X_test_cat[\"Protocol\"]\n",
    "x3_cat_test = X_test_cat[\"Info\"]"
   ]
  },
  {
   "cell_type": "code",
   "execution_count": 34,
   "id": "a2c26b36",
   "metadata": {},
   "outputs": [
    {
     "data": {
      "text/plain": [
       "TCP           3254\n",
       "HTTP2         1017\n",
       "TLSv1.2        631\n",
       "TLSv1.3        383\n",
       "DNS            247\n",
       "ARP             22\n",
       "ICMPv6          11\n",
       "HTTP2/JSON       6\n",
       "HTTP2/XML        5\n",
       "OCSP             4\n",
       "HTTP             2\n",
       "TLSv1            2\n",
       "SSL              1\n",
       "Name: Protocol, dtype: int64"
      ]
     },
     "execution_count": 34,
     "metadata": {},
     "output_type": "execute_result"
    }
   ],
   "source": [
    "x2_cat_test.value_counts()"
   ]
  },
  {
   "cell_type": "code",
   "execution_count": 35,
   "id": "d490d33c",
   "metadata": {},
   "outputs": [],
   "source": [
    "lb_encoder = LabelEncoder()\n",
    "lb_encoder.fit(x2_cat_test)\n",
    "x2_cat_test_tr = lb_encoder.transform(x2_cat_test)\n",
    "\n",
    "lb_encoder = LabelEncoder()\n",
    "lb_encoder.fit(x3_cat_test)\n",
    "x3_cat_test_tr = lb_encoder.transform(x3_cat_test)"
   ]
  },
  {
   "cell_type": "code",
   "execution_count": 36,
   "id": "c4cf92fd",
   "metadata": {
    "scrolled": true
   },
   "outputs": [
    {
     "data": {
      "text/plain": [
       "array([[   1,    9,    9, ...,   12,    9,    9],\n",
       "       [3576,  362, 2025, ..., 3125, 2002, 1111]])"
      ]
     },
     "execution_count": 36,
     "metadata": {},
     "output_type": "execute_result"
    }
   ],
   "source": [
    "X_train_cat_change2 = np.vstack([x2_cat_test_tr,x3_cat_test_tr])\n",
    "X_train_cat_change2"
   ]
  },
  {
   "cell_type": "code",
   "execution_count": 37,
   "id": "4299361d",
   "metadata": {},
   "outputs": [],
   "source": [
    "traffic_scaler3 = StandardScaler()\n",
    "traffic_scaler3.fit(X_train_cat_change2)\n",
    "X_train_test_cat_tr = traffic_scaler3.transform(X_train_cat_change2)"
   ]
  },
  {
   "cell_type": "code",
   "execution_count": 38,
   "id": "1147b5f0",
   "metadata": {},
   "outputs": [
    {
     "data": {
      "text/plain": [
       "(5585, 4)"
      ]
     },
     "execution_count": 38,
     "metadata": {},
     "output_type": "execute_result"
    }
   ],
   "source": [
    "X_test_tr = np.hstack([X_test_num_tr, X_train_test_cat_tr.T])\n",
    "X_test_tr.shape"
   ]
  },
  {
   "cell_type": "code",
   "execution_count": 39,
   "id": "a3b3a3bf",
   "metadata": {},
   "outputs": [
    {
     "data": {
      "text/plain": [
       "array(['Microsoft', 'Xiaomi', 'Xiaomi', ..., 'Alibaba', 'Xiaomi',\n",
       "       'Xiaomi'], dtype=object)"
      ]
     },
     "execution_count": 39,
     "metadata": {},
     "output_type": "execute_result"
    }
   ],
   "source": [
    "y_test_tr = y_test.values\n",
    "y_test_tr"
   ]
  },
  {
   "cell_type": "markdown",
   "id": "99922015",
   "metadata": {},
   "source": [
    "#  Traffic Classification"
   ]
  },
  {
   "cell_type": "markdown",
   "id": "034f82f8",
   "metadata": {},
   "source": [
    "# Import library "
   ]
  },
  {
   "cell_type": "code",
   "execution_count": 40,
   "id": "82f35f2c",
   "metadata": {},
   "outputs": [],
   "source": [
    "from sklearn.neighbors import KNeighborsClassifier\n",
    "from sklearn.linear_model import LogisticRegression\n",
    "from sklearn.metrics import accuracy_score\n",
    "from sklearn.metrics import confusion_matrix\n",
    "from sklearn.metrics import plot_confusion_matrix\n",
    "from sklearn.model_selection import cross_val_predict, cross_val_score"
   ]
  },
  {
   "cell_type": "markdown",
   "id": "594dafb5",
   "metadata": {},
   "source": [
    "# Perform 2 types of classifier "
   ]
  },
  {
   "cell_type": "markdown",
   "id": "6de04b35",
   "metadata": {},
   "source": [
    "# 1. Logistic regression"
   ]
  },
  {
   "cell_type": "code",
   "execution_count": 41,
   "id": "a704556c",
   "metadata": {},
   "outputs": [
    {
     "name": "stdout",
     "output_type": "stream",
     "text": [
      "The accuracy of model 1 :  0.5740060888252149\n"
     ]
    }
   ],
   "source": [
    "# Training the with logistic regression\n",
    "log_reg = LogisticRegression(C = 0.5, max_iter = 5000)\n",
    "log_reg.fit(X_train_tr, y_train_tr)\n",
    "\n",
    "# Predictions\n",
    "y_pred_1 = log_reg.predict(X_train_tr)\n",
    "\n",
    "print (\"The accuracy of model 1 : \",accuracy_score(y_train_tr, y_pred_1))"
   ]
  },
  {
   "cell_type": "markdown",
   "id": "e7bdc7e7",
   "metadata": {},
   "source": [
    "# 2. K-Nearest Neighbor (KNN)"
   ]
  },
  {
   "cell_type": "code",
   "execution_count": 42,
   "id": "070539ec",
   "metadata": {
    "scrolled": true
   },
   "outputs": [
    {
     "name": "stdout",
     "output_type": "stream",
     "text": [
      "The accuracy of model 2 :  0.9631536532951289\n"
     ]
    }
   ],
   "source": [
    "# Training the KNN\n",
    "KNN = KNeighborsClassifier(n_neighbors=5)\n",
    "KNN.fit(X_train_tr, y_train_tr)\n",
    "\n",
    "# Predictions\n",
    "y_pred_2 = KNN.predict(X_train_tr)\n",
    "\n",
    "print (\"The accuracy of model 2 : \",accuracy_score(y_train_tr, y_pred_2))"
   ]
  },
  {
   "cell_type": "markdown",
   "id": "d98f0141",
   "metadata": {},
   "source": [
    "The final classifier we implement is K-Nearest Neighbor as the output of KNN is provide higher accuracy"
   ]
  },
  {
   "cell_type": "markdown",
   "id": "dfaca44e",
   "metadata": {},
   "source": [
    "# Cross-validation"
   ]
  },
  {
   "cell_type": "code",
   "execution_count": 43,
   "id": "5f4ce16f",
   "metadata": {},
   "outputs": [
    {
     "name": "stdout",
     "output_type": "stream",
     "text": [
      "Cross-Validation Accuracy Scores: [0.94538944 0.95523724 0.93285586 0.94986571 0.94986571 0.94897046\n",
      " 0.93285586 0.94180842 0.93912265 0.94180842 0.94449418 0.93106535\n",
      " 0.94449418 0.95434199 0.95165622 0.94449418 0.94982079 0.95430108\n",
      " 0.94802867 0.94265233]\n",
      "\n",
      "Minimum score: 0.9310653536257834 \n",
      "Maximum Score: 0.955237242614145 \n",
      "Score Mean: 0.945156437012864\n"
     ]
    }
   ],
   "source": [
    "# We eliminate Logistic Regression for this project due to it is own a low accuracy\n",
    "scores = cross_val_score(KNN, X_train_tr, y_train_tr, cv=20)\n",
    "print('Cross-Validation Accuracy Scores:', scores)\n",
    "print()\n",
    "scores = pd.Series(scores)\n",
    "print(\"Minimum score:\",scores.min(),\"\\nMaximum Score:\",scores.max(),\"\\nScore Mean:\", scores.mean())"
   ]
  },
  {
   "cell_type": "code",
   "execution_count": 44,
   "id": "c6d6fa43",
   "metadata": {},
   "outputs": [
    {
     "name": "stdout",
     "output_type": "stream",
     "text": [
      "The Confusion Matrix of KNN Algorithm:\n",
      "      0    1    2     3     4    5   6    7     8   9\n",
      "0  1400    4    2    17     2    9   0   16    33   2\n",
      "1     4  542    0     1     0   16   0    2     8   2\n",
      "2     5    3  664     8     9    4   0    0     0   0\n",
      "3    26   25    0  6537     0    5   0   13   111   0\n",
      "4     3    2   12     0  2009   10   0    0     0   0\n",
      "5     4   36    0    17     5  313   0    9     2   0\n",
      "6     2    0    1     3     1    7  15    0    11   0\n",
      "7    30   38    3    29     3   19   0  211    16   1\n",
      "8    35    7    0   122     0    9   0   16  9810   0\n",
      "9    14    3    0     7     0    2   0    7    10  12\n",
      "\n"
     ]
    }
   ],
   "source": [
    "print (\"The Confusion Matrix of KNN Algorithm:\")\n",
    "print (pd.DataFrame(confusion_matrix(y_train_tr, y_pred_2)))\n",
    "print ()"
   ]
  }
 ],
 "metadata": {
  "kernelspec": {
   "display_name": "Python 3 (ipykernel)",
   "language": "python",
   "name": "python3"
  },
  "language_info": {
   "codemirror_mode": {
    "name": "ipython",
    "version": 3
   },
   "file_extension": ".py",
   "mimetype": "text/x-python",
   "name": "python",
   "nbconvert_exporter": "python",
   "pygments_lexer": "ipython3",
   "version": "3.9.12"
  }
 },
 "nbformat": 4,
 "nbformat_minor": 5
}
